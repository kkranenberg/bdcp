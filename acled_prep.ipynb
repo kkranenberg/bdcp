{
 "cells": [
  {
   "cell_type": "code",
   "execution_count": 3,
   "metadata": {
    "collapsed": true
   },
   "outputs": [
    {
     "name": "stdout",
     "output_type": "stream",
     "text": [
      "Import successful!\n"
     ]
    }
   ],
   "source": [
    "import requests\n",
    "import pandas as pd\n",
    "import io\n",
    "\n",
    "print(\"Import successful!\")"
   ]
  },
  {
   "cell_type": "code",
   "execution_count": 4,
   "outputs": [
    {
     "name": "stdout",
     "output_type": "stream",
     "text": [
      "Starting ACLED import.\n",
      "Importing ACLED successful!\n"
     ]
    }
   ],
   "source": [
    "print('Starting ACLED import.')\n",
    "acledDF = pd.read_csv(\n",
    "    io.StringIO(requests.get(\n",
    "        'https://nx9055.your-storageshare.de/s/mperqsyoN8o3NB6/download').content.decode('utf-8')))\n",
    "print('Importing ACLED successful!')"
   ],
   "metadata": {
    "collapsed": false,
    "pycharm": {
     "name": "#%%\n"
    }
   }
  },
  {
   "cell_type": "code",
   "execution_count": 6,
   "outputs": [
    {
     "data": {
      "text/plain": "   data_id  iso event_id_cnty  event_id_no_cnty  event_date  year  \\\n0  7128065  356      IND75736             75736  2020-06-13  2020   \n1  7126786  706      SOM31362             31362  2020-06-13  2020   \n2  7127042  566      NIG17372             17372  2020-06-13  2020   \n3  7127044  566      NIG17368             17368  2020-06-13  2020   \n4  7125510    4      AFG46012             46012  2020-06-13  2020   \n\n   time_precision                  event_type    sub_event_type  \\\n0               1                    Protests  Peaceful protest   \n1               1  Violence against civilians            Attack   \n2               1  Violence against civilians            Attack   \n3               1  Violence against civilians            Attack   \n4               1                    Protests  Peaceful protest   \n\n                                              actor1  ...    location  \\\n0                                 Protesters (India)  ...   Sivasagar   \n1                                         Al Shabaab  ...  Run-nirgod   \n2                    Fulani Ethnic Militia (Nigeria)  ...       Ogale   \n3  Islamic State (West Africa) and/or Boko Haram ...  ...       Dunga   \n4                           Protesters (Afghanistan)  ...    Kandahar   \n\n   latitude longitude geo_precision               source  source_scale  \\\n0   26.9828   94.6421             1        Assam Tribune   Subnational   \n1    3.5595   46.7753             1             Calamada      National   \n2    4.7871    7.1268             1        Nigeria Punch      National   \n3   12.5250   12.9065             1        Nigeria Punch      National   \n4   31.6133   65.7101             1  Pajhwok Afghan News      National   \n\n                                               notes fatalities   timestamp  \\\n0  On 13 June 2020, members of Oikya Sena Asom st...          0  1592327745   \n1  On 13 June 2020, Al shabaab militants shot and...          2  1592254856   \n2  On 13 June 2020, suspected Fulani militias att...          0  1592254857   \n3  On 13 June 2020, Boko Haram attacked Dunga vil...          0  1592254857   \n4  On 13 June 2020, residents demonstrated agains...          0  1592245446   \n\n  iso3  \n0  IND  \n1  SOM  \n2  NGA  \n3  NGA  \n4  AFG  \n\n[5 rows x 31 columns]",
      "text/html": "<div>\n<style scoped>\n    .dataframe tbody tr th:only-of-type {\n        vertical-align: middle;\n    }\n\n    .dataframe tbody tr th {\n        vertical-align: top;\n    }\n\n    .dataframe thead th {\n        text-align: right;\n    }\n</style>\n<table border=\"1\" class=\"dataframe\">\n  <thead>\n    <tr style=\"text-align: right;\">\n      <th></th>\n      <th>data_id</th>\n      <th>iso</th>\n      <th>event_id_cnty</th>\n      <th>event_id_no_cnty</th>\n      <th>event_date</th>\n      <th>year</th>\n      <th>time_precision</th>\n      <th>event_type</th>\n      <th>sub_event_type</th>\n      <th>actor1</th>\n      <th>...</th>\n      <th>location</th>\n      <th>latitude</th>\n      <th>longitude</th>\n      <th>geo_precision</th>\n      <th>source</th>\n      <th>source_scale</th>\n      <th>notes</th>\n      <th>fatalities</th>\n      <th>timestamp</th>\n      <th>iso3</th>\n    </tr>\n  </thead>\n  <tbody>\n    <tr>\n      <th>0</th>\n      <td>7128065</td>\n      <td>356</td>\n      <td>IND75736</td>\n      <td>75736</td>\n      <td>2020-06-13</td>\n      <td>2020</td>\n      <td>1</td>\n      <td>Protests</td>\n      <td>Peaceful protest</td>\n      <td>Protesters (India)</td>\n      <td>...</td>\n      <td>Sivasagar</td>\n      <td>26.9828</td>\n      <td>94.6421</td>\n      <td>1</td>\n      <td>Assam Tribune</td>\n      <td>Subnational</td>\n      <td>On 13 June 2020, members of Oikya Sena Asom st...</td>\n      <td>0</td>\n      <td>1592327745</td>\n      <td>IND</td>\n    </tr>\n    <tr>\n      <th>1</th>\n      <td>7126786</td>\n      <td>706</td>\n      <td>SOM31362</td>\n      <td>31362</td>\n      <td>2020-06-13</td>\n      <td>2020</td>\n      <td>1</td>\n      <td>Violence against civilians</td>\n      <td>Attack</td>\n      <td>Al Shabaab</td>\n      <td>...</td>\n      <td>Run-nirgod</td>\n      <td>3.5595</td>\n      <td>46.7753</td>\n      <td>1</td>\n      <td>Calamada</td>\n      <td>National</td>\n      <td>On 13 June 2020, Al shabaab militants shot and...</td>\n      <td>2</td>\n      <td>1592254856</td>\n      <td>SOM</td>\n    </tr>\n    <tr>\n      <th>2</th>\n      <td>7127042</td>\n      <td>566</td>\n      <td>NIG17372</td>\n      <td>17372</td>\n      <td>2020-06-13</td>\n      <td>2020</td>\n      <td>1</td>\n      <td>Violence against civilians</td>\n      <td>Attack</td>\n      <td>Fulani Ethnic Militia (Nigeria)</td>\n      <td>...</td>\n      <td>Ogale</td>\n      <td>4.7871</td>\n      <td>7.1268</td>\n      <td>1</td>\n      <td>Nigeria Punch</td>\n      <td>National</td>\n      <td>On 13 June 2020, suspected Fulani militias att...</td>\n      <td>0</td>\n      <td>1592254857</td>\n      <td>NGA</td>\n    </tr>\n    <tr>\n      <th>3</th>\n      <td>7127044</td>\n      <td>566</td>\n      <td>NIG17368</td>\n      <td>17368</td>\n      <td>2020-06-13</td>\n      <td>2020</td>\n      <td>1</td>\n      <td>Violence against civilians</td>\n      <td>Attack</td>\n      <td>Islamic State (West Africa) and/or Boko Haram ...</td>\n      <td>...</td>\n      <td>Dunga</td>\n      <td>12.5250</td>\n      <td>12.9065</td>\n      <td>1</td>\n      <td>Nigeria Punch</td>\n      <td>National</td>\n      <td>On 13 June 2020, Boko Haram attacked Dunga vil...</td>\n      <td>0</td>\n      <td>1592254857</td>\n      <td>NGA</td>\n    </tr>\n    <tr>\n      <th>4</th>\n      <td>7125510</td>\n      <td>4</td>\n      <td>AFG46012</td>\n      <td>46012</td>\n      <td>2020-06-13</td>\n      <td>2020</td>\n      <td>1</td>\n      <td>Protests</td>\n      <td>Peaceful protest</td>\n      <td>Protesters (Afghanistan)</td>\n      <td>...</td>\n      <td>Kandahar</td>\n      <td>31.6133</td>\n      <td>65.7101</td>\n      <td>1</td>\n      <td>Pajhwok Afghan News</td>\n      <td>National</td>\n      <td>On 13 June 2020, residents demonstrated agains...</td>\n      <td>0</td>\n      <td>1592245446</td>\n      <td>AFG</td>\n    </tr>\n  </tbody>\n</table>\n<p>5 rows × 31 columns</p>\n</div>"
     },
     "execution_count": 6,
     "metadata": {},
     "output_type": "execute_result"
    }
   ],
   "source": [
    "acledDF.head(5)"
   ],
   "metadata": {
    "collapsed": false,
    "pycharm": {
     "name": "#%%\n"
    }
   }
  }
 ],
 "metadata": {
  "kernelspec": {
   "display_name": "Python 3",
   "language": "python",
   "name": "python3"
  },
  "language_info": {
   "codemirror_mode": {
    "name": "ipython",
    "version": 2
   },
   "file_extension": ".py",
   "mimetype": "text/x-python",
   "name": "python",
   "nbconvert_exporter": "python",
   "pygments_lexer": "ipython2",
   "version": "2.7.6"
  }
 },
 "nbformat": 4,
 "nbformat_minor": 0
}