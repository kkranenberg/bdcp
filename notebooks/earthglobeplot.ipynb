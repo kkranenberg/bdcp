{
 "cells": [
  {
   "cell_type": "code",
   "execution_count": 6,
   "metadata": {
    "collapsed": true
   },
   "outputs": [
    {
     "ename": "ModuleNotFoundError",
     "evalue": "No module named '_plotly_utils'",
     "output_type": "error",
     "traceback": [
      "\u001B[1;31m---------------------------------------------------------------------------\u001B[0m",
      "\u001B[1;31mModuleNotFoundError\u001B[0m                       Traceback (most recent call last)",
      "\u001B[1;32m<ipython-input-6-6efa91a71061>\u001B[0m in \u001B[0;36m<module>\u001B[1;34m\u001B[0m\n\u001B[0;32m      1\u001B[0m \u001B[1;32mimport\u001B[0m \u001B[0mpandas\u001B[0m \u001B[1;32mas\u001B[0m \u001B[0mpd\u001B[0m\u001B[1;33m\u001B[0m\u001B[1;33m\u001B[0m\u001B[0m\n\u001B[0;32m      2\u001B[0m \u001B[1;33m\u001B[0m\u001B[0m\n\u001B[1;32m----> 3\u001B[1;33m \u001B[1;32mimport\u001B[0m \u001B[0mplotly\u001B[0m\u001B[1;33m.\u001B[0m\u001B[0mexpress\u001B[0m \u001B[1;32mas\u001B[0m \u001B[0mpx\u001B[0m\u001B[1;33m\u001B[0m\u001B[1;33m\u001B[0m\u001B[0m\n\u001B[0m\u001B[0;32m      4\u001B[0m \u001B[1;33m\u001B[0m\u001B[0m\n",
      "\u001B[1;32mc:\\users\\karst\\nextcloud\\projekte\\pycharm workspace\\projekte\\bdcp\\venv\\lib\\site-packages\\plotly\\__init__.py\u001B[0m in \u001B[0;36m<module>\u001B[1;34m\u001B[0m\n\u001B[0;32m     28\u001B[0m \u001B[1;32mfrom\u001B[0m \u001B[0m__future__\u001B[0m \u001B[1;32mimport\u001B[0m \u001B[0mabsolute_import\u001B[0m\u001B[1;33m\u001B[0m\u001B[1;33m\u001B[0m\u001B[0m\n\u001B[0;32m     29\u001B[0m \u001B[1;32mimport\u001B[0m \u001B[0msys\u001B[0m\u001B[1;33m\u001B[0m\u001B[1;33m\u001B[0m\u001B[0m\n\u001B[1;32m---> 30\u001B[1;33m \u001B[1;32mfrom\u001B[0m \u001B[0m_plotly_utils\u001B[0m\u001B[1;33m.\u001B[0m\u001B[0mimporters\u001B[0m \u001B[1;32mimport\u001B[0m \u001B[0mrelative_import\u001B[0m\u001B[1;33m\u001B[0m\u001B[1;33m\u001B[0m\u001B[0m\n\u001B[0m\u001B[0;32m     31\u001B[0m \u001B[1;33m\u001B[0m\u001B[0m\n\u001B[0;32m     32\u001B[0m \u001B[1;33m\u001B[0m\u001B[0m\n",
      "\u001B[1;31mModuleNotFoundError\u001B[0m: No module named '_plotly_utils'"
     ]
    }
   ],
   "source": [
    "import pandas as pd\n",
    "import plotly\n",
    "import plotly.express as px\n",
    "\n"
   ]
  },
  {
   "cell_type": "code",
   "execution_count": 4,
   "outputs": [
    {
     "data": {
      "text/plain": "      data_id  iso event_id_cnty  event_id_no_cnty  event_date  year  \\\n0     7128840  300       GRC2012              2012  2020-06-13  2020   \n1     7128823   70        BIH538               538  2020-06-13  2020   \n2     7128817  804      UKR38439             38439  2020-06-13  2020   \n3     7128808  804      UKR38443             38443  2020-06-13  2020   \n4     7128807  804      UKR38442             38442  2020-06-13  2020   \n...       ...  ...           ...               ...         ...   ...   \n4995  7121335  788       TUN6543              6543  2020-06-02  2020   \n4996  7121327  788       TUN6550              6550  2020-06-02  2020   \n4997  7121321  504       MOR2785              2785  2020-06-02  2020   \n4998  7121309  788       TUN6547              6547  2020-06-02  2020   \n4999  7121295  180      DRC17351             17351  2020-06-02  2020   \n\n      time_precision                  event_type  \\\n0                  1                    Protests   \n1                  1                    Protests   \n2                  1  Explosions/Remote violence   \n3                  1  Explosions/Remote violence   \n4                  1                     Battles   \n...              ...                         ...   \n4995               1                    Protests   \n4996               1                    Protests   \n4997               1                    Protests   \n4998               1                    Protests   \n4999               1                     Battles   \n\n                         sub_event_type  \\\n0                      Peaceful protest   \n1                      Peaceful protest   \n2     Shelling/artillery/missile attack   \n3     Shelling/artillery/missile attack   \n4                           Armed clash   \n...                                 ...   \n4995                   Peaceful protest   \n4996                   Peaceful protest   \n4997                   Peaceful protest   \n4998                   Peaceful protest   \n4999                        Armed clash   \n\n                                                 actor1  ...  \\\n0                                   Protesters (Greece)  ...   \n1                   Protesters (Bosnia and Herzegovina)  ...   \n2                    Military Forces of Ukraine (2019-)  ...   \n3               NAF: United Armed Forces of Novorossiya  ...   \n4                    Military Forces of Ukraine (2019-)  ...   \n...                                                 ...  ...   \n4995                               Protesters (Tunisia)  ...   \n4996                               Protesters (Tunisia)  ...   \n4997                               Protesters (Morocco)  ...   \n4998                               Protesters (Tunisia)  ...   \n4999  Military Forces of the Democratic Republic of ...  ...   \n\n                        location  latitude longitude geo_precision  \\\n0                   Thessaloniki   40.6436   22.9309             1   \n1                          Tuzla   44.5384   18.6671             1   \n2                   Khutir Vilny   48.6828   38.5508             2   \n3                       Kamyanka   48.1740   37.7863             2   \n4     Donetsk Filtration Station   48.1331   37.8080             2   \n...                          ...       ...       ...           ...   \n4995                   Kasserine   35.1676    8.8365             1   \n4996                    Chorbane   35.2858   10.3858             1   \n4997                    Assa-Zag   28.1667   -9.4167             1   \n4998                     Siliana   36.0850    9.3708             1   \n4999                    Eringeti    0.8519   29.6124             2   \n\n                           source  source_scale  \\\n0                      To Pontiki      National   \n1                     Oslobodenje      National   \n2                OSCE SMM-Ukraine         Other   \n3                OSCE SMM-Ukraine         Other   \n4                OSCE SMM-Ukraine         Other   \n...                           ...           ...   \n4995                  Al Chourouk      National   \n4996                  Al Chourouk      National   \n4997                      Al 3omk      National   \n4998  Agence Tunis Afrique Presse      National   \n4999                      7 Sur 7      National   \n\n                                                  notes fatalities  \\\n0     On 13 June 2020, tens of members of the wider ...          0   \n1     On 13 June 2020, protesters marched through Tu...          0   \n2     On 13 June 2020, the OSCE SMM observed a total...          0   \n3     On 13 June 2020, the OSCE SMM observed a total...          0   \n4     On 13 June 2020, the OSCE SMM observed a total...          0   \n...                                                 ...        ...   \n4995  On 2 June 2020, a group of contractual teacher...          0   \n4996  On 2 June 2020, a group of teachers and school...          0   \n4997  On 2 June 2020, a group of women held a protes...          0   \n4998  On 2 June 2020, a group of contractual workers...          0   \n4999  On 2 June 2020, the FARDC clashed with ADF arm...          0   \n\n       timestamp iso3  \n0     1592343645  GRC  \n1     1592343645  BIH  \n2     1592343645  UKR  \n3     1592343645  UKR  \n4     1592343645  UKR  \n...          ...  ...  \n4995  1591646809  TUN  \n4996  1591646809  TUN  \n4997  1591646809  MAR  \n4998  1591646809  TUN  \n4999  1591646809  COD  \n\n[5000 rows x 31 columns]",
      "text/html": "<div>\n<style scoped>\n    .dataframe tbody tr th:only-of-type {\n        vertical-align: middle;\n    }\n\n    .dataframe tbody tr th {\n        vertical-align: top;\n    }\n\n    .dataframe thead th {\n        text-align: right;\n    }\n</style>\n<table border=\"1\" class=\"dataframe\">\n  <thead>\n    <tr style=\"text-align: right;\">\n      <th></th>\n      <th>data_id</th>\n      <th>iso</th>\n      <th>event_id_cnty</th>\n      <th>event_id_no_cnty</th>\n      <th>event_date</th>\n      <th>year</th>\n      <th>time_precision</th>\n      <th>event_type</th>\n      <th>sub_event_type</th>\n      <th>actor1</th>\n      <th>...</th>\n      <th>location</th>\n      <th>latitude</th>\n      <th>longitude</th>\n      <th>geo_precision</th>\n      <th>source</th>\n      <th>source_scale</th>\n      <th>notes</th>\n      <th>fatalities</th>\n      <th>timestamp</th>\n      <th>iso3</th>\n    </tr>\n  </thead>\n  <tbody>\n    <tr>\n      <th>0</th>\n      <td>7128840</td>\n      <td>300</td>\n      <td>GRC2012</td>\n      <td>2012</td>\n      <td>2020-06-13</td>\n      <td>2020</td>\n      <td>1</td>\n      <td>Protests</td>\n      <td>Peaceful protest</td>\n      <td>Protesters (Greece)</td>\n      <td>...</td>\n      <td>Thessaloniki</td>\n      <td>40.6436</td>\n      <td>22.9309</td>\n      <td>1</td>\n      <td>To Pontiki</td>\n      <td>National</td>\n      <td>On 13 June 2020, tens of members of the wider ...</td>\n      <td>0</td>\n      <td>1592343645</td>\n      <td>GRC</td>\n    </tr>\n    <tr>\n      <th>1</th>\n      <td>7128823</td>\n      <td>70</td>\n      <td>BIH538</td>\n      <td>538</td>\n      <td>2020-06-13</td>\n      <td>2020</td>\n      <td>1</td>\n      <td>Protests</td>\n      <td>Peaceful protest</td>\n      <td>Protesters (Bosnia and Herzegovina)</td>\n      <td>...</td>\n      <td>Tuzla</td>\n      <td>44.5384</td>\n      <td>18.6671</td>\n      <td>1</td>\n      <td>Oslobodenje</td>\n      <td>National</td>\n      <td>On 13 June 2020, protesters marched through Tu...</td>\n      <td>0</td>\n      <td>1592343645</td>\n      <td>BIH</td>\n    </tr>\n    <tr>\n      <th>2</th>\n      <td>7128817</td>\n      <td>804</td>\n      <td>UKR38439</td>\n      <td>38439</td>\n      <td>2020-06-13</td>\n      <td>2020</td>\n      <td>1</td>\n      <td>Explosions/Remote violence</td>\n      <td>Shelling/artillery/missile attack</td>\n      <td>Military Forces of Ukraine (2019-)</td>\n      <td>...</td>\n      <td>Khutir Vilny</td>\n      <td>48.6828</td>\n      <td>38.5508</td>\n      <td>2</td>\n      <td>OSCE SMM-Ukraine</td>\n      <td>Other</td>\n      <td>On 13 June 2020, the OSCE SMM observed a total...</td>\n      <td>0</td>\n      <td>1592343645</td>\n      <td>UKR</td>\n    </tr>\n    <tr>\n      <th>3</th>\n      <td>7128808</td>\n      <td>804</td>\n      <td>UKR38443</td>\n      <td>38443</td>\n      <td>2020-06-13</td>\n      <td>2020</td>\n      <td>1</td>\n      <td>Explosions/Remote violence</td>\n      <td>Shelling/artillery/missile attack</td>\n      <td>NAF: United Armed Forces of Novorossiya</td>\n      <td>...</td>\n      <td>Kamyanka</td>\n      <td>48.1740</td>\n      <td>37.7863</td>\n      <td>2</td>\n      <td>OSCE SMM-Ukraine</td>\n      <td>Other</td>\n      <td>On 13 June 2020, the OSCE SMM observed a total...</td>\n      <td>0</td>\n      <td>1592343645</td>\n      <td>UKR</td>\n    </tr>\n    <tr>\n      <th>4</th>\n      <td>7128807</td>\n      <td>804</td>\n      <td>UKR38442</td>\n      <td>38442</td>\n      <td>2020-06-13</td>\n      <td>2020</td>\n      <td>1</td>\n      <td>Battles</td>\n      <td>Armed clash</td>\n      <td>Military Forces of Ukraine (2019-)</td>\n      <td>...</td>\n      <td>Donetsk Filtration Station</td>\n      <td>48.1331</td>\n      <td>37.8080</td>\n      <td>2</td>\n      <td>OSCE SMM-Ukraine</td>\n      <td>Other</td>\n      <td>On 13 June 2020, the OSCE SMM observed a total...</td>\n      <td>0</td>\n      <td>1592343645</td>\n      <td>UKR</td>\n    </tr>\n    <tr>\n      <th>...</th>\n      <td>...</td>\n      <td>...</td>\n      <td>...</td>\n      <td>...</td>\n      <td>...</td>\n      <td>...</td>\n      <td>...</td>\n      <td>...</td>\n      <td>...</td>\n      <td>...</td>\n      <td>...</td>\n      <td>...</td>\n      <td>...</td>\n      <td>...</td>\n      <td>...</td>\n      <td>...</td>\n      <td>...</td>\n      <td>...</td>\n      <td>...</td>\n      <td>...</td>\n      <td>...</td>\n    </tr>\n    <tr>\n      <th>4995</th>\n      <td>7121335</td>\n      <td>788</td>\n      <td>TUN6543</td>\n      <td>6543</td>\n      <td>2020-06-02</td>\n      <td>2020</td>\n      <td>1</td>\n      <td>Protests</td>\n      <td>Peaceful protest</td>\n      <td>Protesters (Tunisia)</td>\n      <td>...</td>\n      <td>Kasserine</td>\n      <td>35.1676</td>\n      <td>8.8365</td>\n      <td>1</td>\n      <td>Al Chourouk</td>\n      <td>National</td>\n      <td>On 2 June 2020, a group of contractual teacher...</td>\n      <td>0</td>\n      <td>1591646809</td>\n      <td>TUN</td>\n    </tr>\n    <tr>\n      <th>4996</th>\n      <td>7121327</td>\n      <td>788</td>\n      <td>TUN6550</td>\n      <td>6550</td>\n      <td>2020-06-02</td>\n      <td>2020</td>\n      <td>1</td>\n      <td>Protests</td>\n      <td>Peaceful protest</td>\n      <td>Protesters (Tunisia)</td>\n      <td>...</td>\n      <td>Chorbane</td>\n      <td>35.2858</td>\n      <td>10.3858</td>\n      <td>1</td>\n      <td>Al Chourouk</td>\n      <td>National</td>\n      <td>On 2 June 2020, a group of teachers and school...</td>\n      <td>0</td>\n      <td>1591646809</td>\n      <td>TUN</td>\n    </tr>\n    <tr>\n      <th>4997</th>\n      <td>7121321</td>\n      <td>504</td>\n      <td>MOR2785</td>\n      <td>2785</td>\n      <td>2020-06-02</td>\n      <td>2020</td>\n      <td>1</td>\n      <td>Protests</td>\n      <td>Peaceful protest</td>\n      <td>Protesters (Morocco)</td>\n      <td>...</td>\n      <td>Assa-Zag</td>\n      <td>28.1667</td>\n      <td>-9.4167</td>\n      <td>1</td>\n      <td>Al 3omk</td>\n      <td>National</td>\n      <td>On 2 June 2020, a group of women held a protes...</td>\n      <td>0</td>\n      <td>1591646809</td>\n      <td>MAR</td>\n    </tr>\n    <tr>\n      <th>4998</th>\n      <td>7121309</td>\n      <td>788</td>\n      <td>TUN6547</td>\n      <td>6547</td>\n      <td>2020-06-02</td>\n      <td>2020</td>\n      <td>1</td>\n      <td>Protests</td>\n      <td>Peaceful protest</td>\n      <td>Protesters (Tunisia)</td>\n      <td>...</td>\n      <td>Siliana</td>\n      <td>36.0850</td>\n      <td>9.3708</td>\n      <td>1</td>\n      <td>Agence Tunis Afrique Presse</td>\n      <td>National</td>\n      <td>On 2 June 2020, a group of contractual workers...</td>\n      <td>0</td>\n      <td>1591646809</td>\n      <td>TUN</td>\n    </tr>\n    <tr>\n      <th>4999</th>\n      <td>7121295</td>\n      <td>180</td>\n      <td>DRC17351</td>\n      <td>17351</td>\n      <td>2020-06-02</td>\n      <td>2020</td>\n      <td>1</td>\n      <td>Battles</td>\n      <td>Armed clash</td>\n      <td>Military Forces of the Democratic Republic of ...</td>\n      <td>...</td>\n      <td>Eringeti</td>\n      <td>0.8519</td>\n      <td>29.6124</td>\n      <td>2</td>\n      <td>7 Sur 7</td>\n      <td>National</td>\n      <td>On 2 June 2020, the FARDC clashed with ADF arm...</td>\n      <td>0</td>\n      <td>1591646809</td>\n      <td>COD</td>\n    </tr>\n  </tbody>\n</table>\n<p>5000 rows × 31 columns</p>\n</div>"
     },
     "execution_count": 4,
     "metadata": {},
     "output_type": "execute_result"
    }
   ],
   "source": [
    "pd.read_csv('https://api.acleddata.com/acled/read.csv?terms=accept&limit=5000')\n"
   ],
   "metadata": {
    "collapsed": false,
    "pycharm": {
     "name": "#%%\n"
    }
   }
  },
  {
   "cell_type": "code",
   "execution_count": null,
   "outputs": [],
   "source": [
    "\n",
    "\n",
    "\n",
    "df = px.data.gapminder().query(\"year==2007\")\n",
    "fig = px.choropleth(df, locations=\"iso_alpha\",\n",
    "                    color=\"lifeExp\", # lifeExp is a column of gapminder\n",
    "                    hover_name=\"country\", # column to add to hover information\n",
    "                    color_continuous_scale=px.colors.sequential.Plasma)\n",
    "fig.show()"
   ],
   "metadata": {
    "collapsed": false,
    "pycharm": {
     "name": "#%%\n"
    }
   }
  }
 ],
 "metadata": {
  "kernelspec": {
   "display_name": "Python 3",
   "language": "python",
   "name": "python3"
  },
  "language_info": {
   "codemirror_mode": {
    "name": "ipython",
    "version": 2
   },
   "file_extension": ".py",
   "mimetype": "text/x-python",
   "name": "python",
   "nbconvert_exporter": "python",
   "pygments_lexer": "ipython2",
   "version": "2.7.6"
  }
 },
 "nbformat": 4,
 "nbformat_minor": 0
}